{
 "cells": [
  {
   "cell_type": "code",
   "execution_count": 1,
   "metadata": {},
   "outputs": [],
   "source": [
    "import os\n",
    "from glob import glob\n",
    "import operator\n",
    "import numpy as np\n",
    "import cv2\n",
    "from utils import *"
   ]
  },
  {
   "cell_type": "code",
   "execution_count": 2,
   "metadata": {},
   "outputs": [
    {
     "name": "stdout",
     "output_type": "stream",
     "text": [
      "(4000, 0)\n",
      "Input folder:  0  |  Output folder: 0\n"
     ]
    }
   ],
   "source": [
    "g_p = '../datasets'\n",
    "\n",
    "# i_p = os.path.join(g_p, 'helen-mirrored-new/output/testset/fitting') # input path original\n",
    "# o_p = os.path.join(g_p, 'helen-mirrored-new/output/testset/txtmaps-hstack') # input path original\n",
    "\n",
    "i_p = os.path.join(g_p, 'helen-mirrored-new/output/trainset/fitting') # input path original\n",
    "o_p = os.path.join(g_p, 'helen-mirrored-new/output/trainset/txtmaps-hstack') # input path original\n",
    "\n",
    "if not os.path.exists(o_p): os.makedirs(o_p)\n",
    "else: print('Warning: \"%s\" folder already exists: adding files..' %o_p)\n",
    "\n",
    "i_ext = '.isomap.png'\n",
    "i_pl = reduce(operator.add, [glob(os.path.join(i_p, '*' + i)) for i in i_ext], [])\n",
    "o_pl = reduce(operator.add, [glob(os.path.join(o_p, '*' + i)) for i in i_ext], [])\n",
    "\n",
    "print(len(i_pl), len(o_pl))\n",
    "\n",
    "for i in i_pl:\n",
    "    \n",
    "    f_name = i.split('/')[-1].split(i_ext)[0]\n",
    "    if f_name.split('_')[-1] == 'mirror': continue\n",
    "\n",
    "    f_name_m = f_name + '_mirror'   \n",
    "    i_m = os.path.join(i_p, f_name_m + i_ext)\n",
    "    \n",
    "    if len(glob(i_m)) == 0: \n",
    "        print('Not mirror image found for %s' %j)\n",
    "        continue\n",
    "    \n",
    "    im = cv2.imread(i, cv2.IMREAD_UNCHANGED)\n",
    "    im_m = cv2.imread(i_m, cv2.IMREAD_UNCHANGED)\n",
    "    imhs = np.append(im, im_m, axis=1)\n",
    "    \n",
    "    f_name_hs = f_name_m + '_hs' + i_ext#; print(f_name_hs, imhs.shape)\n",
    "    cv2.imwrite(os.path.join(o_p, f_name_hs), imhs)\n",
    "\n",
    "print('Input folder:  %d  |  Output folder: %d' %(len(glob(os.path.join(i_p, '*' + i_ext))), \n",
    "                                                  len(glob(os.path.join(o_p, '*' + i_ext)))))"
   ]
  },
  {
   "cell_type": "code",
   "execution_count": null,
   "metadata": {},
   "outputs": [],
   "source": []
  }
 ],
 "metadata": {
  "kernelspec": {
   "display_name": "Python 3",
   "language": "python",
   "name": "python3"
  },
  "language_info": {
   "codemirror_mode": {
    "name": "ipython",
    "version": 3
   },
   "file_extension": ".py",
   "mimetype": "text/x-python",
   "name": "python",
   "nbconvert_exporter": "python",
   "pygments_lexer": "ipython3",
   "version": "3.6.2"
  }
 },
 "nbformat": 4,
 "nbformat_minor": 2
}
