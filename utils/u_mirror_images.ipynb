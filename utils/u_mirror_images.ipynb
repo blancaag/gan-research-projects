{
 "cells": [
  {
   "cell_type": "code",
   "execution_count": 2,
   "metadata": {},
   "outputs": [],
   "source": [
    "import os\n",
    "from glob import glob\n",
    "import operator\n",
    "import numpy as np"
   ]
  },
  {
   "cell_type": "code",
   "execution_count": 14,
   "metadata": {
    "scrolled": true
   },
   "outputs": [
    {
     "name": "stdout",
     "output_type": "stream",
     "text": [
      "(300, 0)\n",
      "Input folder:  0  |  Output folder: 600\n"
     ]
    }
   ],
   "source": [
    "# u_move_data.py\n",
    "# move this somewhere else\n",
    "# loop for copying/moving files\n",
    "# trainset/testset\n",
    "g_p = 'datasets'\n",
    "\n",
    "i_p = os.path.join(g_p, '300w_cropped/01_Indoor') # input path original\n",
    "o_p = os.path.join(g_p, '300w_cropped-mirrored-new/01_Indoor') # input path original\n",
    "\n",
    "if not os.path.exists(o_p): os.makedirs(o_p)\n",
    "else: print('Warning: \"%s\" folder already exists: adding files..' %o_p)\n",
    "\n",
    "i_ext = ['*.jpg', '*.JPG', '*.png']\n",
    "i_pl = reduce(operator.add, [glob(os.path.join(i_p, i)) for i in i_ext], [])\n",
    "o_pl = reduce(operator.add, [glob(os.path.join(o_p, i)) for i in i_ext], [])\n",
    "\n",
    "print(len(i_pl), len(o_pl))\n",
    "\n",
    "for i in i_pl:\n",
    "        \n",
    "    if i in o_pl: print('File already exists in destination folder')\n",
    "    \n",
    "    f_name = i.split('/')[-1].split('.png')[0]\n",
    "    if f_name.split('_')[-1] == 'mirror': continue\n",
    "    \n",
    "    im = cv2.imread(i, cv2.IMREAD_UNCHANGED) \n",
    "    im_m = np.fliplr(im)\n",
    "\n",
    "    cv2.imwrite(os.path.join(o_p, f_name + '.png'), im)\n",
    "    cv2.imwrite(os.path.join(o_p, f_name + '_mirror.png'), im_m)\n",
    "\n",
    "#     else: os.system('mv %s %s' %(i, o_p))\n",
    "\n",
    "print('Input folder:  %d  |  Output folder: %d' %(len(glob(os.path.join(i_p, '*.jpg'))), \n",
    "                                                  len(glob(os.path.join(o_p, '*.png')))))"
   ]
  },
  {
   "cell_type": "code",
   "execution_count": null,
   "metadata": {},
   "outputs": [],
   "source": []
  },
  {
   "cell_type": "code",
   "execution_count": null,
   "metadata": {},
   "outputs": [],
   "source": []
  }
 ],
 "metadata": {
  "kernelspec": {
   "display_name": "Python 3",
   "language": "python",
   "name": "python3"
  },
  "language_info": {
   "codemirror_mode": {
    "name": "ipython",
    "version": 2
   },
   "file_extension": ".py",
   "mimetype": "text/x-python",
   "name": "python",
   "nbconvert_exporter": "python",
   "pygments_lexer": "ipython2",
   "version": "2.7.14"
  }
 },
 "nbformat": 4,
 "nbformat_minor": 2
}
