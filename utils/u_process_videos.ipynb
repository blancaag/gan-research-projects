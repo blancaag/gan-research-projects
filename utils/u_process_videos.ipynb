{
 "cells": [
  {
   "cell_type": "code",
   "execution_count": null,
   "metadata": {},
   "outputs": [],
   "source": [
    "# conda install av -c conda-forge\n",
    "# http://mikeboers.github.io/PyAV/\n",
    "# supports '' formats: mov,mp4,m4a,3gp,3g2,mj2\n",
    "import numpy as np\n",
    "import cv2\n",
    "from glob import glob\n",
    "import os\n",
    "import operator\n",
    "from functools import reduce\n",
    "import av\n",
    "\n",
    "i_p = 'data'\n",
    "i_pl = reduce(operator.add, [glob(os.path.join(i_p, '*.mov'))])\n",
    "\n",
    "print('Total number of found videos: %d   |   extenssion: .mov' %len(i_pl))\n",
    "\n",
    "o_p = 'output'\n",
    "if not os.path.exists(o_p): os.makedirs(o_p)\n",
    "else: print('Warning: \"output\" dir exists, adding files')\n",
    "\n",
    "for i in i_pl:\n",
    "    print('Processing video file %s' %i)\n",
    "    try: \n",
    "        container = av.open(i)\n",
    "        f_name = i.split('/')[-1].split('.')[0]\n",
    "        o_pfname = os.path.join(o_p, f_name); print(o_pfname)\n",
    "        if not os.path.exists(o_pfname): os.makedirs(o_pfname)\n",
    "        else: print('Warning: \"output\" dir for %s exists, adding files' %f_name)\n",
    "        for frame in container.decode(video=0):\n",
    "            frame.to_image().save(os.path.join(o_pfname, 'frame-%04d.png' %frame.index))\n",
    "            \n",
    "    except: continue"
   ]
  }
 ],
 "metadata": {
  "kernelspec": {
   "display_name": "Python 3",
   "language": "python",
   "name": "python3"
  },
  "language_info": {
   "codemirror_mode": {
    "name": "ipython",
    "version": 3
   },
   "file_extension": ".py",
   "mimetype": "text/x-python",
   "name": "python",
   "nbconvert_exporter": "python",
   "pygments_lexer": "ipython3",
   "version": "3.6.2"
  }
 },
 "nbformat": 4,
 "nbformat_minor": 2
}
