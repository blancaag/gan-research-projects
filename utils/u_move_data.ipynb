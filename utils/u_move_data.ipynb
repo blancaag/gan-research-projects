{
 "cells": [
  {
   "cell_type": "code",
   "execution_count": 4,
   "metadata": {},
   "outputs": [],
   "source": [
    "import os\n",
    "from glob import glob\n",
    "import operator"
   ]
  },
  {
   "cell_type": "code",
   "execution_count": 7,
   "metadata": {},
   "outputs": [
    {
     "name": "stdout",
     "output_type": "stream",
     "text": [
      "(2000, 0)\n",
      "Input folder:  0  |  Output folder: 2000\n"
     ]
    }
   ],
   "source": [
    "# u_move_data.py\n",
    "# loop for copying/moving files\n",
    "# trainset/testset\n",
    "\n",
    "g_p = 'datasets/helen-mirrored'\n",
    "i_p = os.path.join(g_p, 'trainset') # input path original\n",
    "o_p = os.path.join(g_p, 'output/trainset/landmarks') # input path original\n",
    "\n",
    "if not os.path.exists(o_p): os.makedirs(o_p)\n",
    "else: print('Warning: \"%s\" folder already exists: adding files..' %o_p)\n",
    "\n",
    "i_ext = ['*.pts']\n",
    "i_pl = reduce(operator.add, [glob(os.path.join(i_p, i)) for i in i_ext], [])\n",
    "o_pl = reduce(operator.add, [glob(os.path.join(o_p, i)) for i in i_ext], [])\n",
    "\n",
    "print(len(i_pl), len(o_pl))\n",
    "\n",
    "for i in i_pl:\n",
    "    if i in o_pl: print('File already exists in destination folder')\n",
    "#     else: os.system('cp %s %s' %(i, o_p))\n",
    "    \n",
    "print('Input folder:  %d  |  Output folder: %d' %(len(glob(os.path.join(i_p, '*.pts'))), len(glob(os.path.join(o_p, '*.pts')))))"
   ]
  },
  {
   "cell_type": "code",
   "execution_count": 7,
   "metadata": {},
   "outputs": [
    {
     "name": "stdout",
     "output_type": "stream",
     "text": [
      "Warning: \"../datasets/helen-mirrored-new/output/trainset/landmarks\" folder already exists: adding files..\n",
      "(4000, 0)\n",
      "Input folder:  4000  |  Output folder: 4000\n"
     ]
    }
   ],
   "source": [
    "# u_move_data.py\n",
    "# loop for copying/moving files: copying landmarks\n",
    "# trainset/testsset\n",
    "\n",
    "g_p = '../datasets'\n",
    "i_p = os.path.join(g_p, 'helen/trainset') # input path original\n",
    "o_p = os.path.join(g_p, 'helen-mirrored-new/output/trainset/landmarks') # input path original\n",
    "\n",
    "if not os.path.exists(o_p): os.makedirs(o_p)\n",
    "else: print('Warning: \"%s\" folder already exists: adding files..' %o_p)\n",
    "\n",
    "i_ext = ['*.pts']\n",
    "i_pl = reduce(operator.add, [glob(os.path.join(i_p, i)) for i in i_ext], [])\n",
    "o_pl = reduce(operator.add, [glob(os.path.join(o_p, i)) for i in i_ext], [])\n",
    "\n",
    "print(len(i_pl), len(o_pl))\n",
    "\n",
    "for i in i_pl:\n",
    "    f_name = i.split('/')[-1].split('.pts')[0]\n",
    "\n",
    "#     if len(f_name.split('_')) == 4: continue  # os.system('rm %s' %(i)) # BE CAREFUL!\n",
    "    \n",
    "#     if i in o_pl: print('File already exists in destination folder')\n",
    "#     else: \n",
    "    os.system('cp %s %s' %(i, o_p))\n",
    "\n",
    "print('Input folder:  %d  |  Output folder: %d' %(len(glob(os.path.join(i_p, '*.pts'))), len(glob(os.path.join(o_p, '*.pts')))))"
   ]
  },
  {
   "cell_type": "code",
   "execution_count": null,
   "metadata": {},
   "outputs": [],
   "source": []
  }
 ],
 "metadata": {
  "kernelspec": {
   "display_name": "Python 3",
   "language": "python",
   "name": "python3"
  },
  "language_info": {
   "codemirror_mode": {
    "name": "ipython",
    "version": 2
   },
   "file_extension": ".py",
   "mimetype": "text/x-python",
   "name": "python",
   "nbconvert_exporter": "python",
   "pygments_lexer": "ipython2",
   "version": "2.7.14"
  }
 },
 "nbformat": 4,
 "nbformat_minor": 2
}
